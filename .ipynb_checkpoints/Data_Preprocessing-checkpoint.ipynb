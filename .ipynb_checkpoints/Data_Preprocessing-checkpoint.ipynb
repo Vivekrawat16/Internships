{
 "cells": [
  {
   "cell_type": "code",
   "execution_count": 1,
   "id": "7b1d259f-2305-4c3a-8f85-12caaaef239d",
   "metadata": {},
   "outputs": [],
   "source": [
    "import pandas as pd"
   ]
  },
  {
   "cell_type": "code",
   "execution_count": 9,
   "id": "8de66163-4c10-46c6-a44b-b6492ca260f8",
   "metadata": {},
   "outputs": [
    {
     "name": "stdout",
     "output_type": "stream",
     "text": [
      "  invoice_no customer_id  category  quantity    price invoice_date  \\\n",
      "0    I138884     C241288  Clothing         5  1500.40   05-08-2022   \n",
      "1    I317333     C111565     Shoes         3  1800.51   12-12-2021   \n",
      "2    I127801     C266599  Clothing         1   300.08   09-11-2021   \n",
      "3    I173702     C988172     Shoes         5  3000.85   16-05-2021   \n",
      "4    I337046     C189076     Books         4    60.60   24-10-2021   \n",
      "\n",
      "    shopping_mall  \n",
      "0          Kanyon  \n",
      "1  Forum Istanbul  \n",
      "2       Metrocity  \n",
      "3    Metropol AVM  \n",
      "4          Kanyon  \n",
      "  customer_id  gender   age payment_method\n",
      "0     C241288  Female  28.0    Credit Card\n",
      "1     C111565    Male  21.0     Debit Card\n",
      "2     C266599    Male  20.0           Cash\n",
      "3     C988172  Female  66.0    Credit Card\n",
      "4     C189076  Female  53.0           Cash\n"
     ]
    }
   ],
   "source": [
    "sales_df = pd.read_csv('data/sales_data.csv')\n",
    "customer_df = pd.read_csv('data/customer_data.csv')\n",
    "\n",
    "print(sales_df.head())\n",
    "print(customer_df.head())"
   ]
  },
  {
   "cell_type": "code",
   "execution_count": 12,
   "id": "34e8487c-ad1d-4c06-9eff-46832e28cbcf",
   "metadata": {},
   "outputs": [
    {
     "name": "stdout",
     "output_type": "stream",
     "text": [
      "  invoice_no customer_id  category  quantity    price invoice_date  \\\n",
      "0    I138884     C241288  Clothing         5  1500.40   05-08-2022   \n",
      "1    I317333     C111565     Shoes         3  1800.51   12-12-2021   \n",
      "2    I127801     C266599  Clothing         1   300.08   09-11-2021   \n",
      "3    I173702     C988172     Shoes         5  3000.85   16-05-2021   \n",
      "4    I337046     C189076     Books         4    60.60   24-10-2021   \n",
      "\n",
      "    shopping_mall  gender   age payment_method  \n",
      "0          Kanyon  Female  28.0    Credit Card  \n",
      "1  Forum Istanbul    Male  21.0     Debit Card  \n",
      "2       Metrocity    Male  20.0           Cash  \n",
      "3    Metropol AVM  Female  66.0    Credit Card  \n",
      "4          Kanyon  Female  53.0           Cash  \n"
     ]
    }
   ],
   "source": [
    "# Merge on 'Customer id'\n",
    "df = pd.merge(sales_df, customer_df, on='customer_id')\n",
    "print(df.head())\n"
   ]
  },
  {
   "cell_type": "code",
   "execution_count": 13,
   "id": "285e76eb-e0ba-4d75-a583-cd5dfdf5dd80",
   "metadata": {},
   "outputs": [
    {
     "name": "stdout",
     "output_type": "stream",
     "text": [
      "invoice_no          0\n",
      "customer_id         0\n",
      "category            0\n",
      "quantity            0\n",
      "price               0\n",
      "invoice_date        0\n",
      "shopping_mall       0\n",
      "gender              0\n",
      "age               119\n",
      "payment_method      0\n",
      "dtype: int64\n"
     ]
    }
   ],
   "source": [
    "print(df.isnull().sum())"
   ]
  },
  {
   "cell_type": "code",
   "execution_count": 14,
   "id": "3a136bfc-3916-4490-8352-c566522e545e",
   "metadata": {},
   "outputs": [],
   "source": [
    "df = df.dropna()"
   ]
  },
  {
   "cell_type": "code",
   "execution_count": 15,
   "id": "254b7777-152d-47d1-b53a-74a21ce0ffdb",
   "metadata": {},
   "outputs": [
    {
     "name": "stdout",
     "output_type": "stream",
     "text": [
      "invoice_no        0\n",
      "customer_id       0\n",
      "category          0\n",
      "quantity          0\n",
      "price             0\n",
      "invoice_date      0\n",
      "shopping_mall     0\n",
      "gender            0\n",
      "age               0\n",
      "payment_method    0\n",
      "dtype: int64\n"
     ]
    }
   ],
   "source": [
    "print(df.isnull().sum())"
   ]
  },
  {
   "cell_type": "code",
   "execution_count": 16,
   "id": "e7f6665d-8af5-407a-972b-f56f59406f09",
   "metadata": {},
   "outputs": [
    {
     "name": "stdout",
     "output_type": "stream",
     "text": [
      "  invoice_no customer_id  category  quantity    price invoice_date  \\\n",
      "0    I138884     C241288  Clothing         5  1500.40   05-08-2022   \n",
      "1    I317333     C111565     Shoes         3  1800.51   12-12-2021   \n",
      "2    I127801     C266599  Clothing         1   300.08   09-11-2021   \n",
      "3    I173702     C988172     Shoes         5  3000.85   16-05-2021   \n",
      "4    I337046     C189076     Books         4    60.60   24-10-2021   \n",
      "\n",
      "    shopping_mall  gender   age payment_method  \n",
      "0          Kanyon  Female  28.0    Credit Card  \n",
      "1  Forum Istanbul    Male  21.0     Debit Card  \n",
      "2       Metrocity    Male  20.0           Cash  \n",
      "3    Metropol AVM  Female  66.0    Credit Card  \n",
      "4          Kanyon  Female  53.0           Cash  \n"
     ]
    }
   ],
   "source": []
  },
  {
   "cell_type": "code",
   "execution_count": 20,
   "id": "eda75c2a-1119-405c-9b9f-cfe2c6d43859",
   "metadata": {},
   "outputs": [],
   "source": [
    "df['invoice_date'] = pd.to_datetime(df['invoice_date'], format='%d-%m-%Y')\n"
   ]
  },
  {
   "cell_type": "code",
   "execution_count": 22,
   "id": "55c917b4-7a30-423f-bae0-2c85a7b610a1",
   "metadata": {},
   "outputs": [],
   "source": [
    "df['Total'] = df['quantity'] * df['price']"
   ]
  },
  {
   "cell_type": "code",
   "execution_count": 23,
   "id": "be514e45-2fa3-4b3b-8f7d-3d9631d6ca1b",
   "metadata": {},
   "outputs": [
    {
     "name": "stdout",
     "output_type": "stream",
     "text": [
      "  invoice_no customer_id  category  quantity    price invoice_date  \\\n",
      "0    I138884     C241288  Clothing         5  1500.40   2022-08-05   \n",
      "1    I317333     C111565     Shoes         3  1800.51   2021-12-12   \n",
      "2    I127801     C266599  Clothing         1   300.08   2021-11-09   \n",
      "3    I173702     C988172     Shoes         5  3000.85   2021-05-16   \n",
      "4    I337046     C189076     Books         4    60.60   2021-10-24   \n",
      "\n",
      "    shopping_mall  gender   age payment_method     Total  \n",
      "0          Kanyon  Female  28.0    Credit Card   7502.00  \n",
      "1  Forum Istanbul    Male  21.0     Debit Card   5401.53  \n",
      "2       Metrocity    Male  20.0           Cash    300.08  \n",
      "3    Metropol AVM  Female  66.0    Credit Card  15004.25  \n",
      "4          Kanyon  Female  53.0           Cash    242.40  \n"
     ]
    }
   ],
   "source": [
    "print(df.head())"
   ]
  },
  {
   "cell_type": "code",
   "execution_count": 24,
   "id": "5d4c2d44-6428-40df-805b-8d617855505d",
   "metadata": {},
   "outputs": [],
   "source": [
    "df.to_csv('cleaned_data.csv', index=False)"
   ]
  },
  {
   "cell_type": "code",
   "execution_count": null,
   "id": "b701c134-b811-4a85-af99-d12c7aa30619",
   "metadata": {},
   "outputs": [],
   "source": []
  }
 ],
 "metadata": {
  "kernelspec": {
   "display_name": "Python 3 (ipykernel)",
   "language": "python",
   "name": "python3"
  },
  "language_info": {
   "codemirror_mode": {
    "name": "ipython",
    "version": 3
   },
   "file_extension": ".py",
   "mimetype": "text/x-python",
   "name": "python",
   "nbconvert_exporter": "python",
   "pygments_lexer": "ipython3",
   "version": "3.13.5"
  }
 },
 "nbformat": 4,
 "nbformat_minor": 5
}
